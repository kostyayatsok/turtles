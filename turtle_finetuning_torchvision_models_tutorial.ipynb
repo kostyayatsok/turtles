{
  "cells": [
    {
      "cell_type": "code",
      "execution_count": 1,
      "metadata": {
        "id": "3B0-PK_tRUuq"
      },
      "outputs": [],
      "source": [
        "%matplotlib inline"
      ]
    },
    {
      "cell_type": "markdown",
      "metadata": {
        "id": "4KR3LNvyRUus"
      },
      "source": [
        "\n",
        "Finetuning Torchvision Models\n",
        "=============================\n",
        "\n",
        "**Author:** `Nathan Inkawhich <https://github.com/inkawhich>`__\n",
        "\n",
        "\n"
      ]
    },
    {
      "cell_type": "code",
      "source": [
        "!pip install validators"
      ],
      "metadata": {
        "colab": {
          "base_uri": "https://localhost:8080/"
        },
        "id": "2b9pYR4hcE5O",
        "outputId": "6e76ad8a-ff23-4916-8edd-fcc9c904451e"
      },
      "execution_count": 2,
      "outputs": [
        {
          "output_type": "stream",
          "name": "stdout",
          "text": [
            "Requirement already satisfied: validators in /usr/local/lib/python3.7/dist-packages (0.18.2)\n",
            "Requirement already satisfied: decorator>=3.4.0 in /usr/local/lib/python3.7/dist-packages (from validators) (4.4.2)\n",
            "Requirement already satisfied: six>=1.4.0 in /usr/local/lib/python3.7/dist-packages (from validators) (1.15.0)\n"
          ]
        }
      ]
    },
    {
      "cell_type": "code",
      "execution_count": 3,
      "metadata": {
        "colab": {
          "base_uri": "https://localhost:8080/"
        },
        "id": "c2iX6uZrRUuu",
        "outputId": "0158e29d-fb17-448c-de56-4c0a32dd3dff"
      },
      "outputs": [
        {
          "output_type": "stream",
          "name": "stdout",
          "text": [
            "PyTorch Version:  1.10.0+cu111\n",
            "Torchvision Version:  0.11.1+cu111\n"
          ]
        }
      ],
      "source": [
        "from __future__ import print_function \n",
        "from __future__ import division\n",
        "import torch\n",
        "import torch.nn as nn\n",
        "import torch.optim as optim\n",
        "import numpy as np\n",
        "import torchvision\n",
        "from torchvision import datasets, models, transforms\n",
        "import matplotlib.pyplot as plt\n",
        "import time\n",
        "import os\n",
        "import copy\n",
        "import numpy as np\n",
        "!pip install -q wandb\n",
        "import wandb\n",
        "\n",
        "print(\"PyTorch Version: \",torch.__version__)\n",
        "print(\"Torchvision Version: \",torchvision.__version__)\n",
        "\n",
        "torch.manual_seed(3407)\n",
        "np.random.seed(3407)"
      ]
    },
    {
      "cell_type": "code",
      "execution_count": 4,
      "metadata": {
        "colab": {
          "base_uri": "https://localhost:8080/"
        },
        "id": "a_awvAPkTGai",
        "outputId": "5a6b4f82-5080-47b6-dc7a-71ea114e0d37"
      },
      "outputs": [
        {
          "output_type": "stream",
          "name": "stdout",
          "text": [
            "Mon Feb 14 12:51:33 2022       \n",
            "+-----------------------------------------------------------------------------+\n",
            "| NVIDIA-SMI 460.32.03    Driver Version: 460.32.03    CUDA Version: 11.2     |\n",
            "|-------------------------------+----------------------+----------------------+\n",
            "| GPU  Name        Persistence-M| Bus-Id        Disp.A | Volatile Uncorr. ECC |\n",
            "| Fan  Temp  Perf  Pwr:Usage/Cap|         Memory-Usage | GPU-Util  Compute M. |\n",
            "|                               |                      |               MIG M. |\n",
            "|===============================+======================+======================|\n",
            "|   0  Tesla P100-PCIE...  Off  | 00000000:00:04.0 Off |                    0 |\n",
            "| N/A   43C    P0    28W / 250W |      0MiB / 16280MiB |      0%      Default |\n",
            "|                               |                      |                  N/A |\n",
            "+-------------------------------+----------------------+----------------------+\n",
            "                                                                               \n",
            "+-----------------------------------------------------------------------------+\n",
            "| Processes:                                                                  |\n",
            "|  GPU   GI   CI        PID   Type   Process name                  GPU Memory |\n",
            "|        ID   ID                                                   Usage      |\n",
            "|=============================================================================|\n",
            "|  No running processes found                                                 |\n",
            "+-----------------------------------------------------------------------------+\n"
          ]
        }
      ],
      "source": [
        "!nvidia-smi"
      ]
    },
    {
      "cell_type": "markdown",
      "metadata": {
        "id": "ZQffhjhERUuv"
      },
      "source": [
        "Inputs\n",
        "------\n",
        "\n",
        "Here are all of the parameters to change for the run. We will use the\n",
        "*hymenoptera_data* dataset which can be downloaded\n",
        "`here <https://download.pytorch.org/tutorial/hymenoptera_data.zip>`__.\n",
        "This dataset contains two classes, **bees** and **ants**, and is\n",
        "structured such that we can use the\n",
        "`ImageFolder <https://pytorch.org/docs/stable/torchvision/datasets.html#torchvision.datasets.ImageFolder>`__\n",
        "dataset, rather than writing our own custom dataset. Download the data\n",
        "and set the ``data_dir`` input to the root directory of the dataset. The\n",
        "``model_name`` input is the name of the model you wish to use and must\n",
        "be selected from this list:\n",
        "\n",
        "::\n",
        "\n",
        "   [resnet, alexnet, vgg, squeezenet, densenet, inception]\n",
        "\n",
        "The other inputs are as follows: ``num_classes`` is the number of\n",
        "classes in the dataset, ``batch_size`` is the batch size used for\n",
        "training and may be adjusted according to the capability of your\n",
        "machine, ``num_epochs`` is the number of training epochs we want to run,\n",
        "and ``feature_extract`` is a boolean that defines if we are finetuning\n",
        "or feature extracting. If ``feature_extract = False``, the model is\n",
        "finetuned and all model parameters are updated. If\n",
        "``feature_extract = True``, only the last layer parameters are updated,\n",
        "the others remain fixed.\n",
        "\n",
        "\n"
      ]
    },
    {
      "cell_type": "code",
      "execution_count": 5,
      "metadata": {
        "id": "Ql81217CRUuw"
      },
      "outputs": [],
      "source": [
        "# Top level data directory. Here we assume the format of the directory conforms \n",
        "#   to the ImageFolder structure\n",
        "data_dir = \"./data/hymenoptera_data\"\n",
        "\n",
        "# Models to choose from [resnet, alexnet, vgg, squeezenet, densenet, inception]\n",
        "model_name = \"densenet\"\n",
        "\n",
        "# Number of classes in the dataset\n",
        "num_classes = 101\n",
        "\n",
        "# Batch size for training (change depending on how much memory you have)\n",
        "batch_size = 8\n",
        "\n",
        "# Number of epochs to train for \n",
        "num_epochs = 30\n",
        "\n",
        "# Flag for feature extracting. When False, we finetune the whole model, \n",
        "#   when True we only update the reshaped layer params\n",
        "feature_extract = False"
      ]
    },
    {
      "cell_type": "markdown",
      "metadata": {
        "id": "X8_hkYliRUux"
      },
      "source": [
        "Helper Functions\n",
        "\n",
        "\n"
      ]
    },
    {
      "cell_type": "code",
      "execution_count": 6,
      "metadata": {
        "id": "kkZ1tF3VRUux"
      },
      "outputs": [],
      "source": [
        "def train_model(\n",
        "        model, dataloaders, criterion, optimizer,\n",
        "        scheduler=None, num_epochs=25, is_inception=False\n",
        "    ):\n",
        "    since = time.time()\n",
        "\n",
        "    val_acc_history = []\n",
        "    \n",
        "    best_model_wts = copy.deepcopy(model.state_dict())\n",
        "    best_acc = 0.0\n",
        "\n",
        "    wandb.init(project=\"turtles\")\n",
        "\n",
        "    for epoch in range(num_epochs):\n",
        "        print('Epoch {}/{}'.format(epoch, num_epochs - 1))\n",
        "        print('-' * 10)\n",
        "\n",
        "        # Each epoch has a training and validation phase\n",
        "        for phase in ['train', 'val']:\n",
        "            if phase == 'train':\n",
        "                model.train()  # Set model to training mode\n",
        "            else:\n",
        "                model.eval()   # Set model to evaluate mode\n",
        "\n",
        "            running_loss = 0.0\n",
        "            running_corrects = 0\n",
        "\n",
        "            # Iterate over data.\n",
        "            for inputs, labels in dataloaders[phase]:\n",
        "                inputs = inputs.to(device)\n",
        "                labels = labels.to(device)\n",
        "\n",
        "                # zero the parameter gradients\n",
        "                optimizer.zero_grad()\n",
        "\n",
        "                # forward\n",
        "                # track history if only in train\n",
        "                with torch.set_grad_enabled(phase == 'train'):\n",
        "                    # Get model outputs and calculate loss\n",
        "                    # Special case for inception because in training it has an auxiliary output. In train\n",
        "                    #   mode we calculate the loss by summing the final output and the auxiliary output\n",
        "                    #   but in testing we only consider the final output.\n",
        "                    if is_inception and phase == 'train':\n",
        "                        # From https://discuss.pytorch.org/t/how-to-optimize-inception-model-with-auxiliary-classifiers/7958\n",
        "                        outputs, aux_outputs = model(inputs)\n",
        "                        loss1 = criterion(outputs, labels)\n",
        "                        loss2 = criterion(aux_outputs, labels)\n",
        "                        loss = loss1 + 0.4*loss2\n",
        "                    else:\n",
        "                        outputs = model(inputs)\n",
        "                        loss = criterion(outputs, labels)\n",
        "\n",
        "                    _, preds = torch.max(outputs, 1)\n",
        "\n",
        "                    # backward + optimize only if in training phase\n",
        "                    if phase == 'train':\n",
        "                        loss.backward()\n",
        "                        optimizer.step()\n",
        "                        if scheduler is not None:\n",
        "                            scheduler.step()\n",
        "                # statistics\n",
        "                running_loss += loss.item() * inputs.size(0)\n",
        "                running_corrects += torch.sum(preds == labels.data)\n",
        "            epoch_loss = running_loss / len(dataloaders[phase].dataset)\n",
        "            epoch_acc = running_corrects.double() / len(dataloaders[phase].dataset)\n",
        "\n",
        "            print('{} Loss: {:.4f} Acc: {:.4f}'.format(phase, epoch_loss, epoch_acc))\n",
        "\n",
        "            wandb.log({\n",
        "                \"epoch\":epoch,\n",
        "                f\"loss_{phase}\":epoch_loss,\n",
        "                f\"acc_{phase}\":epoch_acc,\n",
        "            })\n",
        "            # deep copy the model\n",
        "            if phase == 'val' and epoch_acc > best_acc:\n",
        "                best_acc = epoch_acc\n",
        "                best_model_wts = copy.deepcopy(model.state_dict())\n",
        "            if phase == 'val':\n",
        "                val_acc_history.append(epoch_acc)\n",
        "\n",
        "        print()\n",
        "\n",
        "    time_elapsed = time.time() - since\n",
        "    print('Training complete in {:.0f}m {:.0f}s'.format(time_elapsed // 60, time_elapsed % 60))\n",
        "    print('Best val Acc: {:4f}'.format(best_acc))\n",
        "\n",
        "    # load best model weights\n",
        "    model.load_state_dict(best_model_wts)\n",
        "    return model, val_acc_history"
      ]
    },
    {
      "cell_type": "code",
      "execution_count": 7,
      "metadata": {
        "id": "_c_Z9CJNRUuz"
      },
      "outputs": [],
      "source": [
        "def set_parameter_requires_grad(model, feature_extracting):\n",
        "    if feature_extracting:\n",
        "        for param in model.parameters():\n",
        "            param.requires_grad = False"
      ]
    },
    {
      "cell_type": "markdown",
      "metadata": {
        "id": "PgXrIiidRUuz"
      },
      "source": [
        "Initialize and Reshape the Networks\n",
        "-----------------------------------\n"
      ]
    },
    {
      "cell_type": "code",
      "execution_count": 8,
      "metadata": {
        "id": "QF_FoBXtRUu1"
      },
      "outputs": [],
      "source": [
        "def initialize_model(model_name, num_classes, feature_extract, use_pretrained=True):\n",
        "    # Initialize these variables which will be set in this if statement. Each of these\n",
        "    #   variables is model specific.\n",
        "    model_ft = None\n",
        "    input_size = 0\n",
        "\n",
        "    if model_name == \"resnet\":\n",
        "        \"\"\" Resnet18\n",
        "        \"\"\"\n",
        "        model_ft = models.resnet50(pretrained=use_pretrained)\n",
        "        set_parameter_requires_grad(model_ft, feature_extract)\n",
        "        num_ftrs = model_ft.fc.in_features\n",
        "        model_ft.fc = nn.Linear(num_ftrs, num_classes)\n",
        "        input_size = 224\n",
        "\n",
        "    elif model_name == \"alexnet\":\n",
        "        \"\"\" Alexnet\n",
        "        \"\"\"\n",
        "        model_ft = models.alexnet(pretrained=use_pretrained)\n",
        "        set_parameter_requires_grad(model_ft, feature_extract)\n",
        "        num_ftrs = model_ft.classifier[6].in_features\n",
        "        model_ft.classifier[6] = nn.Linear(num_ftrs,num_classes)\n",
        "        input_size = 224\n",
        "\n",
        "    elif model_name == \"vgg\":\n",
        "        \"\"\" VGG11_bn\n",
        "        \"\"\"\n",
        "        model_ft = models.vgg11_bn(pretrained=use_pretrained)\n",
        "        set_parameter_requires_grad(model_ft, feature_extract)\n",
        "        num_ftrs = model_ft.classifier[6].in_features\n",
        "        model_ft.classifier[6] = nn.Linear(num_ftrs,num_classes)\n",
        "        input_size = 224\n",
        "\n",
        "    elif model_name == \"squeezenet\":\n",
        "        \"\"\" Squeezenet\n",
        "        \"\"\"\n",
        "        model_ft = models.squeezenet1_0(pretrained=use_pretrained)\n",
        "        set_parameter_requires_grad(model_ft, feature_extract)\n",
        "        model_ft.classifier[1] = nn.Conv2d(512, num_classes, kernel_size=(1,1), stride=(1,1))\n",
        "        model_ft.num_classes = num_classes\n",
        "        input_size = 224\n",
        "\n",
        "    elif model_name == \"densenet\":\n",
        "        \"\"\" Densenet\n",
        "        \"\"\"\n",
        "        model_ft = models.densenet121(pretrained=use_pretrained)\n",
        "        set_parameter_requires_grad(model_ft, feature_extract)\n",
        "        num_ftrs = model_ft.classifier.in_features\n",
        "        model_ft.classifier = nn.Linear(num_ftrs, num_classes) \n",
        "        input_size = 224\n",
        "\n",
        "    elif model_name == \"inception\":\n",
        "        \"\"\" Inception v3 \n",
        "        Be careful, expects (299,299) sized images and has auxiliary output\n",
        "        \"\"\"\n",
        "        model_ft = models.inception_v3(pretrained=use_pretrained)\n",
        "        set_parameter_requires_grad(model_ft, feature_extract)\n",
        "        # Handle the auxilary net\n",
        "        num_ftrs = model_ft.AuxLogits.fc.in_features\n",
        "        model_ft.AuxLogits.fc = nn.Linear(num_ftrs, num_classes)\n",
        "        # Handle the primary net\n",
        "        num_ftrs = model_ft.fc.in_features\n",
        "        model_ft.fc = nn.Linear(num_ftrs,num_classes)\n",
        "        input_size = 299\n",
        "    elif model_name == \"efficientnet\":\n",
        "        '''\n",
        "        'efficientnet-b0': (1.0, 1.0, 224, 0.2),\n",
        "        'efficientnet-b1': (1.0, 1.1, 240, 0.2),\n",
        "        'efficientnet-b2': (1.1, 1.2, 260, 0.3),\n",
        "        'efficientnet-b3': (1.2, 1.4, 300, 0.3),\n",
        "        'efficientnet-b4': (1.4, 1.8, 380, 0.4),\n",
        "        'efficientnet-b5': (1.6, 2.2, 456, 0.4),\n",
        "        'efficientnet-b6': (1.8, 2.6, 528, 0.5),\n",
        "        'efficientnet-b7': (2.0, 3.1, 600, 0.5),\n",
        "        '''\n",
        "\n",
        "        model_ft = torch.hub.load('NVIDIA/DeepLearningExamples:torchhub', 'nvidia_efficientnet_b4', pretrained=True)\n",
        "        utils = torch.hub.load('NVIDIA/DeepLearningExamples:torchhub', 'nvidia_convnets_processing_utils')\n",
        "        set_parameter_requires_grad(model_ft, feature_extract)\n",
        "        num_ftrs = model_ft.classifier.fc.in_features\n",
        "        model_ft.classifier.fc = nn.Linear(num_ftrs, num_classes) \n",
        "        input_size = 380\n",
        "    else:\n",
        "        print(\"Invalid model name, exiting...\")\n",
        "        exit()\n",
        "    \n",
        "    return model_ft, input_size\n",
        "\n",
        "\n",
        "# Initialize the model for this run\n",
        "model_ft, input_size = initialize_model(model_name, num_classes, feature_extract, use_pretrained=True)\n",
        "\n",
        "# Print the model we just instantiated\n",
        "# print(model_ft)"
      ]
    },
    {
      "cell_type": "markdown",
      "metadata": {
        "id": "4MO0hpysRUu3"
      },
      "source": [
        "Load Data\n",
        "---------\n",
        "\n",
        "Now that we know what the input size must be, we can initialize the data\n",
        "transforms, image datasets, and the dataloaders. Notice, the models were\n",
        "pretrained with the hard-coded normalization values, as described\n",
        "`here <https://pytorch.org/docs/master/torchvision/models.html>`__.\n",
        "\n",
        "\n"
      ]
    },
    {
      "cell_type": "code",
      "execution_count": 9,
      "metadata": {
        "colab": {
          "base_uri": "https://localhost:8080/"
        },
        "id": "Zce8cdfvS2HQ",
        "outputId": "fd192169-04a1-41de-acb2-ae089d8da835"
      },
      "outputs": [
        {
          "output_type": "stream",
          "name": "stdout",
          "text": [
            "The total number of images is: 13891\n"
          ]
        }
      ],
      "source": [
        "import os\n",
        "\n",
        "SOURCE_URL = 'https://storage.googleapis.com/dm-turtle-recall/images.tar'\n",
        "IMAGE_DIR = './turtle_recall/images'\n",
        "TAR_PATH = os.path.join(IMAGE_DIR, os.path.basename(SOURCE_URL))\n",
        "EXPECTED_IMAGE_COUNT = 13891\n",
        "\n",
        "%sx mkdir --parents \"{IMAGE_DIR}\"\n",
        "if len(os.listdir(IMAGE_DIR)) != EXPECTED_IMAGE_COUNT:\n",
        "  %sx wget --no-check-certificate -O \"{TAR_PATH}\" \"{SOURCE_URL}\"\n",
        "  %sx tar --extract --file=\"{TAR_PATH}\" --directory=\"{IMAGE_DIR}\"\n",
        "  %sx rm \"{TAR_PATH}\"\n",
        "\n",
        "print(f'The total number of images is: {len(os.listdir(IMAGE_DIR))}')"
      ]
    },
    {
      "cell_type": "code",
      "execution_count": 10,
      "metadata": {
        "id": "5NZQ6poSS2QA"
      },
      "outputs": [],
      "source": [
        "import pandas as pd\n",
        "import requests\n",
        "import io\n",
        "import urllib.parse\n",
        "\n",
        "BASE_URL = 'https://storage.googleapis.com/dm-turtle-recall/'\n",
        "\n",
        "\n",
        "def read_csv_from_web(file_name):\n",
        "  url = urllib.parse.urljoin(BASE_URL, file_name)\n",
        "  content = requests.get(url).content\n",
        "  return pd.read_csv(io.StringIO(content.decode('utf-8')))\n",
        "\n",
        "\n",
        "# Read in csv files.\n",
        "train = read_csv_from_web('train.csv')\n",
        "test = read_csv_from_web('test.csv')\n",
        "sample_submission = read_csv_from_web('sample_submission.csv')\n",
        "\n",
        "all_ids = np.unique(train.turtle_id)\n",
        "\n",
        "extra = read_csv_from_web('extra_images.csv')\n",
        "mask = extra.turtle_id.isin(all_ids)\n",
        "extra.turtle_id[~mask] = \"new_turtle\"\n",
        "train = pd.concat((train, extra[mask]))\n",
        "train = pd.concat((train, extra[~mask].sample(100)))\n",
        "# Convert image_location strings to lowercase.\n",
        "# for df in [train, test]:\n",
        "#   df.image_location = df.image_location.apply(lambda x: x.lower())\n",
        "#   assert set(df.image_location.unique()) == set(['left', 'right', 'top'])"
      ]
    },
    {
      "cell_type": "code",
      "execution_count": 11,
      "metadata": {
        "colab": {
          "base_uri": "https://localhost:8080/"
        },
        "id": "-5t-w6lPT0gV",
        "outputId": "92c054ee-cc6b-4459-e829-b0172f155fcb"
      },
      "outputs": [
        {
          "output_type": "execute_result",
          "data": {
            "text/plain": [
              "(      image_id image_location      turtle_id\n",
              " 0  ID_2RK4WLN8            top  t_id_VP2NW7aV\n",
              " 1  ID_VVW0QXLX           left  t_id_qZ0iZYsC\n",
              " 2  ID_RVATH2HZ          Right  t_id_3b65X5Lw\n",
              " 3  ID_2GB90GPS           left  t_id_YjXYTCGC\n",
              " 4  ID_LM6S0B1M            top  t_id_d6aYXtor, (2884, 3))"
            ]
          },
          "metadata": {},
          "execution_count": 11
        }
      ],
      "source": [
        "train.head(), train.shape"
      ]
    },
    {
      "cell_type": "code",
      "source": [
        "# plt.plot(train.groupby('turtle_id').count())\n",
        "# (train['turtle_id']==\"new_turtle\").sum()"
      ],
      "metadata": {
        "id": "i4eQeQQrWvjw"
      },
      "execution_count": 12,
      "outputs": []
    },
    {
      "cell_type": "code",
      "execution_count": 13,
      "metadata": {
        "id": "ZPiofnObUPkC"
      },
      "outputs": [],
      "source": [
        "idx2id = train[\"turtle_id\"].unique()\n",
        "id2idx = {v : i for i, v in enumerate(idx2id)}"
      ]
    },
    {
      "cell_type": "code",
      "execution_count": 14,
      "metadata": {
        "colab": {
          "base_uri": "https://localhost:8080/"
        },
        "id": "spmrnJOuVBV0",
        "outputId": "f17d617c-28f5-4154-bdc1-647d23d143c1"
      },
      "outputs": [
        {
          "output_type": "execute_result",
          "data": {
            "text/plain": [
              "((2595, 3), (289, 3))"
            ]
          },
          "metadata": {},
          "execution_count": 14
        }
      ],
      "source": [
        "train_size = int(train.shape[0] * 0.9)\n",
        "train = train.sample(train.shape[0])\n",
        "train, val = train[:train_size], train[train_size:]\n",
        "train.shape, val.shape"
      ]
    },
    {
      "cell_type": "code",
      "execution_count": 15,
      "metadata": {
        "id": "Ys_U-SCoTKtd"
      },
      "outputs": [],
      "source": [
        "from torchvision.io import read_image\n",
        "\n",
        "class TurtleDataset(torch.utils.data.Dataset):\n",
        "    def __init__(self, df, transforms):\n",
        "        self.df = df\n",
        "        self.transforms = transforms\n",
        "    def __len__(self):\n",
        "        return self.df.shape[0]\n",
        "    def __getitem__(self, idx):\n",
        "        img = read_image(f\"{IMAGE_DIR}/{self.df.iloc[idx]['image_id']}.JPG\") / 255.\n",
        "        # img = (img - 127.5) / 128.\n",
        "        # pad_h = max(img.size(1), img.size(2)) - img.size(1)\n",
        "        # pad_w = max(img.size(1), img.size(2)) - img.size(2)\n",
        "        # img = torch.nn.functional.pad(img, (0, pad_w, 0, pad_h, 0, 0))\n",
        "        img = self.transforms(img.float())\n",
        "        \n",
        "        label = id2idx[self.df.iloc[idx]['turtle_id']]\n",
        "        return img, label\n",
        "td = TurtleDataset(train, lambda x: x)\n",
        "len(td), td[300];"
      ]
    },
    {
      "cell_type": "code",
      "execution_count": 16,
      "metadata": {
        "colab": {
          "base_uri": "https://localhost:8080/"
        },
        "id": "OTfRMBP9RUu3",
        "outputId": "a61cc175-9d61-4f39-a502-32015f6ac4ba"
      },
      "outputs": [
        {
          "output_type": "stream",
          "name": "stdout",
          "text": [
            "Initializing Datasets and Dataloaders...\n"
          ]
        }
      ],
      "source": [
        "# Data augmentation and normalization for training\n",
        "# Just normalization for validation\n",
        "# data_transforms = {\n",
        "#     'train': transforms.Compose([\n",
        "#         transforms.RandomHorizontalFlip(),\n",
        "#         # transforms.RandomAffine(degrees=(0, 70), translate=(0.1, 0.11), scale=(0.75, 0.99)),\n",
        "#         # transforms.RandomApply([transforms.GaussianBlur(kernel_size=(5, 9), sigma=(0.1, 5))]),\n",
        "#         # transforms.TrivialAugmentWide(),\n",
        "#         # transforms.ToTensor(),\n",
        "#         transforms.Resize(3*input_size//2),\n",
        "#         transforms.RandomCrop(input_size),\n",
        "#         # transforms.Normalize([0.5, 0.5, 0.406], [0.229, 0.224, 0.225])\n",
        "#     ]),\n",
        "#     'val': transforms.Compose([\n",
        "#         transforms.Resize(input_size),\n",
        "#         transforms.CenterCrop(input_size),\n",
        "#         # transforms.ToTensor(),\n",
        "#         # transforms.Normalize([0.485, 0.456, 0.406], [0.229, 0.224, 0.225])\n",
        "#     ]),\n",
        "# }\n",
        "\n",
        "data_transforms = {\n",
        "    'train': transforms.Compose([\n",
        "        # transforms.RandomAffine(degrees=(0, 70), translate=(0.1, 0.11), scale=(0.75, 0.99)),\n",
        "        transforms.RandomResizedCrop(input_size, scale=(0.5, 1.)),\n",
        "        transforms.RandomHorizontalFlip(),\n",
        "        # transforms.ToTensor(),\n",
        "        transforms.Normalize([0.485, 0.456, 0.406], [0.229, 0.224, 0.225])\n",
        "    ]),\n",
        "    'val': transforms.Compose([\n",
        "        transforms.Resize(input_size),\n",
        "        transforms.CenterCrop(input_size),\n",
        "        # transforms.RandomResizedCrop(input_size, scale=(0.5, 1.)),\n",
        "        # transforms.ToTensor(),\n",
        "        transforms.Normalize([0.485, 0.456, 0.406], [0.229, 0.224, 0.225])\n",
        "    ]),\n",
        "}\n",
        "\n",
        "print(\"Initializing Datasets and Dataloaders...\")\n",
        "\n",
        "# Create training and validation datasets\n",
        "image_datasets = {x: TurtleDataset(train if x == 'train' else val, data_transforms[x]) for x in ['train', 'val']}\n",
        "# Create training and validation dataloaders\n",
        "dataloaders_dict = {x: torch.utils.data.DataLoader(image_datasets[x], batch_size=batch_size, shuffle=True, num_workers=2, pin_memory=True) for x in ['train', 'val']}\n",
        "\n",
        "# Detect if we have a GPU available\n",
        "device = torch.device(\"cuda:0\" if torch.cuda.is_available() else \"cpu\")"
      ]
    },
    {
      "cell_type": "markdown",
      "metadata": {
        "id": "rNJhdZjffTxm"
      },
      "source": [
        ""
      ]
    },
    {
      "cell_type": "code",
      "execution_count": 17,
      "metadata": {
        "colab": {
          "base_uri": "https://localhost:8080/",
          "height": 304
        },
        "id": "UMLmzN_aHDl9",
        "outputId": "8b7fffb4-bca6-4a34-bc31-eb1302a4bf39"
      },
      "outputs": [
        {
          "output_type": "stream",
          "name": "stderr",
          "text": [
            "Clipping input data to the valid range for imshow with RGB data ([0..1] for floats or [0..255] for integers).\n"
          ]
        },
        {
          "output_type": "stream",
          "name": "stdout",
          "text": [
            "-2.117904 2.0250773\n"
          ]
        },
        {
          "output_type": "display_data",
          "data": {
            "image/png": "[encoded data removed]",
            "text/plain": [
              "<Figure size 432x288 with 1 Axes>"
            ]
          },
          "metadata": {
            "needs_background": "light"
          }
        }
      ],
      "source": [
        "for imgs, labels in dataloaders_dict['train']:\n",
        "    for img in imgs:\n",
        "        print(np.min(img.numpy()), np.max(img.numpy()))\n",
        "        plt.imshow((img.numpy().transpose(1, 2, 0) + 1) / 2)\n",
        "        plt.show()\n",
        "        break\n",
        "    break"
      ]
    },
    {
      "cell_type": "markdown",
      "metadata": {
        "id": "wBW7Zp37RUu4"
      },
      "source": [
        "Create the Optimizer\n",
        "--------------------\n",
        "\n",
        "Now that the model structure is correct, the final step for finetuning\n",
        "and feature extracting is to create an optimizer that only updates the\n",
        "desired parameters. Recall that after loading the pretrained model, but\n",
        "before reshaping, if ``feature_extract=True`` we manually set all of the\n",
        "parameter’s ``.requires_grad`` attributes to False. Then the\n",
        "reinitialized layer’s parameters have ``.requires_grad=True`` by\n",
        "default. So now we know that *all parameters that have\n",
        ".requires_grad=True should be optimized.* Next, we make a list of such\n",
        "parameters and input this list to the SGD algorithm constructor.\n",
        "\n",
        "To verify this, check out the printed parameters to learn. When\n",
        "finetuning, this list should be long and include all of the model\n",
        "parameters. However, when feature extracting this list should be short\n",
        "and only include the weights and biases of the reshaped layers.\n",
        "\n",
        "\n"
      ]
    },
    {
      "cell_type": "code",
      "execution_count": 18,
      "metadata": {
        "colab": {
          "base_uri": "https://localhost:8080/"
        },
        "id": "bsqi1kUsRUu4",
        "outputId": "6aab4c57-7f8c-4324-d874-8517cdcb4783"
      },
      "outputs": [
        {
          "output_type": "stream",
          "name": "stdout",
          "text": [
            "Params to learn:\n"
          ]
        }
      ],
      "source": [
        "# Send the model to GPU\n",
        "model_ft = model_ft.to(device)\n",
        "\n",
        "# Gather the parameters to be optimized/updated in this run. If we are\n",
        "#  finetuning we will be updating all parameters. However, if we are \n",
        "#  doing feature extract method, we will only update the parameters\n",
        "#  that we have just initialized, i.e. the parameters with requires_grad\n",
        "#  is True.\n",
        "params_to_update = model_ft.parameters()\n",
        "print(\"Params to learn:\")\n",
        "if feature_extract:\n",
        "    params_to_update = []\n",
        "    for name,param in model_ft.named_parameters():\n",
        "        if param.requires_grad == True:\n",
        "            params_to_update.append(param)\n",
        "            # print(\"\\t\",name)\n",
        "else:\n",
        "    for name,param in model_ft.named_parameters():\n",
        "        if param.requires_grad == True:\n",
        "            # print(\"\\t\",name)\n",
        "            pass\n",
        "\n",
        "# Observe that all parameters are being optimized\n",
        "# optimizer_ft = optim.AdamW(params_to_update, lr=0.001)\n",
        "optimizer_ft = optim.SGD(params_to_update, lr=0.001, momentum=0.9)\n",
        "scheduler_ft = None # optim.lr_scheduler.OneCycleLR(optimizer_ft, max_lr=0.001, steps_per_epoch=len(dataloaders_dict['train']), epochs=num_epochs)"
      ]
    },
    {
      "cell_type": "markdown",
      "metadata": {
        "id": "06Qi8bDFRUu4"
      },
      "source": [
        "Run Training and Validation Step\n",
        "--------------------------------\n",
        "\n",
        "Finally, the last step is to setup the loss for the model, then run the\n",
        "training and validation function for the set number of epochs. Notice,\n",
        "depending on the number of epochs this step may take a while on a CPU.\n",
        "Also, the default learning rate is not optimal for all of the models, so\n",
        "to achieve maximum accuracy it would be necessary to tune for each model\n",
        "separately.\n",
        "\n",
        "\n"
      ]
    },
    {
      "cell_type": "code",
      "execution_count": 19,
      "metadata": {
        "colab": {
          "base_uri": "https://localhost:8080/",
          "height": 1000
        },
        "id": "CfC4l96nRUu4",
        "outputId": "165a4b49-7474-46db-b6f8-940f3fa1ea52"
      },
      "outputs": [
        {
          "output_type": "stream",
          "name": "stderr",
          "text": [
            "\u001b[34m\u001b[1mwandb\u001b[0m: Currently logged in as: \u001b[33mkostyayatsok\u001b[0m (use `wandb login --relogin` to force relogin)\n"
          ]
        },
        {
          "output_type": "display_data",
          "data": {
            "text/html": [
              "\n",
              "                    Syncing run <strong><a href=\"https://wandb.ai/kostyayatsok/turtles/runs/3admoc0p\" target=\"_blank\">delightful-heart-8</a></strong> to <a href=\"https://wandb.ai/kostyayatsok/turtles\" target=\"_blank\">Weights & Biases</a> (<a href=\"https://docs.wandb.com/integrations/jupyter.html\" target=\"_blank\">docs</a>).<br/>\n",
              "\n",
              "                "
            ],
            "text/plain": [
              "<IPython.core.display.HTML object>"
            ]
          },
          "metadata": {}
        },
        {
          "output_type": "stream",
          "name": "stdout",
          "text": [
            "Epoch 0/29\n",
            "----------\n",
            "train Loss: 4.2911 Acc: 0.0740\n",
            "val Loss: 3.8179 Acc: 0.1557\n",
            "\n",
            "Epoch 1/29\n",
            "----------\n",
            "train Loss: 3.4586 Acc: 0.2046\n",
            "val Loss: 3.0743 Acc: 0.2388\n",
            "\n",
            "Epoch 2/29\n",
            "----------\n",
            "train Loss: 2.6955 Acc: 0.3618\n",
            "val Loss: 2.3308 Acc: 0.4464\n",
            "\n",
            "Epoch 3/29\n",
            "----------\n",
            "train Loss: 2.1070 Acc: 0.4987\n",
            "val Loss: 1.9040 Acc: 0.5329\n",
            "\n",
            "Epoch 4/29\n",
            "----------\n",
            "train Loss: 1.6141 Acc: 0.6200\n",
            "val Loss: 1.6256 Acc: 0.5813\n",
            "\n",
            "Epoch 5/29\n",
            "----------\n",
            "train Loss: 1.2823 Acc: 0.7152\n",
            "val Loss: 1.3822 Acc: 0.6644\n",
            "\n",
            "Epoch 6/29\n",
            "----------\n",
            "train Loss: 1.0252 Acc: 0.7761\n",
            "val Loss: 1.1081 Acc: 0.7301\n",
            "\n",
            "Epoch 7/29\n",
            "----------\n",
            "train Loss: 0.7969 Acc: 0.8378\n",
            "val Loss: 1.0254 Acc: 0.7266\n",
            "\n",
            "Epoch 8/29\n",
            "----------\n",
            "train Loss: 0.6198 Acc: 0.8786\n",
            "val Loss: 0.8825 Acc: 0.7924\n",
            "\n",
            "Epoch 9/29\n",
            "----------\n",
            "train Loss: 0.5076 Acc: 0.9064\n",
            "val Loss: 0.9007 Acc: 0.7924\n",
            "\n",
            "Epoch 10/29\n",
            "----------\n",
            "train Loss: 0.4024 Acc: 0.9341\n",
            "val Loss: 0.7905 Acc: 0.8235\n",
            "\n",
            "Epoch 11/29\n",
            "----------\n",
            "train Loss: 0.3187 Acc: 0.9530\n",
            "val Loss: 0.7834 Acc: 0.8166\n",
            "\n",
            "Epoch 12/29\n",
            "----------\n",
            "train Loss: 0.2767 Acc: 0.9634\n",
            "val Loss: 0.7257 Acc: 0.8270\n",
            "\n",
            "Epoch 13/29\n",
            "----------\n",
            "train Loss: 0.2182 Acc: 0.9719\n",
            "val Loss: 0.7855 Acc: 0.8131\n",
            "\n",
            "Epoch 14/29\n",
            "----------\n",
            "train Loss: 0.1825 Acc: 0.9784\n",
            "val Loss: 0.6747 Acc: 0.8408\n",
            "\n",
            "Epoch 15/29\n",
            "----------\n",
            "train Loss: 0.1531 Acc: 0.9796\n",
            "val Loss: 0.7274 Acc: 0.8304\n",
            "\n",
            "Epoch 16/29\n",
            "----------\n",
            "train Loss: 0.1326 Acc: 0.9861\n",
            "val Loss: 0.6654 Acc: 0.8374\n",
            "\n",
            "Epoch 17/29\n",
            "----------\n",
            "train Loss: 0.1356 Acc: 0.9803\n",
            "val Loss: 0.5926 Acc: 0.8651\n",
            "\n",
            "Epoch 18/29\n",
            "----------\n",
            "train Loss: 0.1069 Acc: 0.9900\n",
            "val Loss: 0.6576 Acc: 0.8720\n",
            "\n",
            "Epoch 19/29\n",
            "----------\n",
            "train Loss: 0.0898 Acc: 0.9923\n",
            "val Loss: 0.5846 Acc: 0.8720\n",
            "\n",
            "Epoch 20/29\n",
            "----------\n",
            "train Loss: 0.0805 Acc: 0.9931\n",
            "val Loss: 0.6657 Acc: 0.8408\n",
            "\n",
            "Epoch 21/29\n",
            "----------\n",
            "train Loss: 0.0800 Acc: 0.9923\n",
            "val Loss: 0.6381 Acc: 0.8651\n",
            "\n",
            "Epoch 22/29\n",
            "----------\n",
            "train Loss: 0.0793 Acc: 0.9892\n",
            "val Loss: 0.5972 Acc: 0.8720\n",
            "\n",
            "Epoch 23/29\n",
            "----------\n",
            "train Loss: 0.0667 Acc: 0.9938\n",
            "val Loss: 0.5740 Acc: 0.8754\n",
            "\n",
            "Epoch 24/29\n",
            "----------\n",
            "train Loss: 0.0553 Acc: 0.9958\n",
            "val Loss: 0.5587 Acc: 0.8927\n",
            "\n",
            "Epoch 25/29\n",
            "----------\n",
            "train Loss: 0.0764 Acc: 0.9884\n",
            "val Loss: 0.6020 Acc: 0.8581\n",
            "\n",
            "Epoch 26/29\n",
            "----------\n",
            "train Loss: 0.0575 Acc: 0.9954\n",
            "val Loss: 0.5427 Acc: 0.8651\n",
            "\n",
            "Epoch 27/29\n",
            "----------\n",
            "train Loss: 0.0610 Acc: 0.9919\n",
            "val Loss: 0.6083 Acc: 0.8581\n",
            "\n",
            "Epoch 28/29\n",
            "----------\n",
            "train Loss: 0.0542 Acc: 0.9950\n",
            "val Loss: 0.5738 Acc: 0.8651\n",
            "\n",
            "Epoch 29/29\n",
            "----------\n",
            "train Loss: 0.0529 Acc: 0.9931\n",
            "val Loss: 0.5747 Acc: 0.8824\n",
            "\n",
            "Training complete in 51m 8s\n",
            "Best val Acc: 0.892734\n"
          ]
        }
      ],
      "source": [
        "# Setup the loss fxn\n",
        "criterion = nn.CrossEntropyLoss()\n",
        "# Train and evaluate\n",
        "model_ft, hist = train_model(\n",
        "    model_ft, dataloaders_dict, criterion, optimizer_ft, scheduler_ft,\n",
        "    num_epochs=num_epochs, is_inception=(model_name==\"inseption\")\n",
        ")"
      ]
    },
    {
      "cell_type": "code",
      "execution_count": 19,
      "metadata": {
        "id": "OmtzRyvNTD0r"
      },
      "outputs": [],
      "source": [
        ""
      ]
    },
    {
      "cell_type": "markdown",
      "metadata": {
        "id": "_q_BR-7VRUu5"
      },
      "source": [
        "Comparison with Model Trained from Scratch\n",
        "------------------------------------------\n",
        "\n",
        "Just for fun, lets see how the model learns if we do not use transfer\n",
        "learning. The performance of finetuning vs. feature extracting depends\n",
        "largely on the dataset but in general both transfer learning methods\n",
        "produce favorable results in terms of training time and overall accuracy\n",
        "versus a model trained from scratch.\n",
        "\n",
        "\n"
      ]
    },
    {
      "cell_type": "code",
      "execution_count": 20,
      "metadata": {
        "colab": {
          "base_uri": "https://localhost:8080/",
          "height": 295
        },
        "id": "AaWisrtLRUu5",
        "outputId": "cf2c273b-b066-4781-b5e5-a5d073443335"
      },
      "outputs": [
        {
          "output_type": "display_data",
          "data": {
            "image/png": "[encoded data removed]",
            "text/plain": [
              "<Figure size 432x288 with 1 Axes>"
            ]
          },
          "metadata": {
            "needs_background": "light"
          }
        }
      ],
      "source": [
        "# Initialize the non-pretrained version of the model used for this run\n",
        "# scratch_model,_ = initialize_model(model_name, num_classes, feature_extract=False, use_pretrained=False)\n",
        "# scratch_model = scratch_model.to(device)\n",
        "# scratch_optimizer = optim.SGD(scratch_model.parameters(), lr=0.001, momentum=0.9)\n",
        "# scratch_criterion = nn.CrossEntropyLoss()\n",
        "# _,scratch_hist = train_model(scratch_model, dataloaders_dict, scratch_criterion, scratch_optimizer, num_epochs=num_epochs, is_inception=(model_name==\"inception\"))\n",
        "\n",
        "# Plot the training curves of validation accuracy vs. number \n",
        "#  of training epochs for the transfer learning method and\n",
        "#  the model trained from scratch\n",
        "ohist = []\n",
        "# shist = []\n",
        "\n",
        "ohist = [h.cpu().numpy() for h in hist]\n",
        "# shist = [h.cpu().numpy() for h in scratch_hist]\n",
        "\n",
        "plt.title(\"Validation Accuracy vs. Number of Training Epochs\")\n",
        "plt.xlabel(\"Training Epochs\")\n",
        "plt.ylabel(\"Validation Accuracy\")\n",
        "plt.plot(range(1,num_epochs+1),ohist,label=\"Pretrained\")\n",
        "# plt.plot(range(1,num_epochs+1),shist,label=\"Scratch\")\n",
        "plt.ylim((0,1.))\n",
        "plt.xticks(np.arange(1, num_epochs+1, 1.0))\n",
        "plt.legend()\n",
        "plt.show()"
      ]
    },
    {
      "cell_type": "code",
      "execution_count": 21,
      "metadata": {
        "id": "-OjMs85w0GwP",
        "colab": {
          "base_uri": "https://localhost:8080/",
          "height": 1000
        },
        "outputId": "274ca288-a688-45ee-fd9b-3eef2559a3a4"
      },
      "outputs": [
        {
          "output_type": "stream",
          "name": "stderr",
          "text": [
            "\r  0%|          | 0/490 [00:00<?, ?it/s]"
          ]
        },
        {
          "output_type": "display_data",
          "data": {
            "image/png": "[encoded data removed]",
            "text/plain": [
              "<Figure size 432x288 with 1 Axes>"
            ]
          },
          "metadata": {
            "needs_background": "light"
          }
        },
        {
          "output_type": "stream",
          "name": "stderr",
          "text": [
            " 10%|▉         | 48/490 [00:03<00:27, 15.86it/s]"
          ]
        },
        {
          "output_type": "display_data",
          "data": {
            "image/png": "[encoded data removed]",
            "text/plain": [
              "<Figure size 432x288 with 1 Axes>"
            ]
          },
          "metadata": {
            "needs_background": "light"
          }
        },
        {
          "output_type": "stream",
          "name": "stderr",
          "text": [
            " 20%|█▉        | 97/490 [00:06<00:27, 14.45it/s]"
          ]
        },
        {
          "output_type": "display_data",
          "data": {
            "image/png": "[encoded data removed]",
            "text/plain": [
              "<Figure size 432x288 with 1 Axes>"
            ]
          },
          "metadata": {
            "needs_background": "light"
          }
        },
        {
          "output_type": "stream",
          "name": "stderr",
          "text": [
            " 30%|███       | 147/490 [00:09<00:24, 14.16it/s]"
          ]
        },
        {
          "output_type": "display_data",
          "data": {
            "image/png": "[encoded data removed]",
            "text/plain": [
              "<Figure size 432x288 with 1 Axes>"
            ]
          },
          "metadata": {
            "needs_background": "light"
          }
        },
        {
          "output_type": "stream",
          "name": "stderr",
          "text": [
            " 40%|███▉      | 195/490 [00:12<00:19, 15.13it/s]"
          ]
        },
        {
          "output_type": "display_data",
          "data": {
            "image/png": "[encoded data removed]",
            "text/plain": [
              "<Figure size 432x288 with 1 Axes>"
            ]
          },
          "metadata": {
            "needs_background": "light"
          }
        },
        {
          "output_type": "stream",
          "name": "stderr",
          "text": [
            " 50%|████▉     | 243/490 [00:16<00:14, 16.69it/s]"
          ]
        },
        {
          "output_type": "display_data",
          "data": {
            "image/png": "[encoded data removed]",
            "text/plain": [
              "<Figure size 432x288 with 1 Axes>"
            ]
          },
          "metadata": {
            "needs_background": "light"
          }
        },
        {
          "output_type": "stream",
          "name": "stderr",
          "text": [
            " 60%|█████▉    | 293/490 [00:19<00:13, 14.83it/s]"
          ]
        },
        {
          "output_type": "display_data",
          "data": {
            "image/png": "[encoded data removed]",
            "text/plain": [
              "<Figure size 432x288 with 1 Axes>"
            ]
          },
          "metadata": {
            "needs_background": "light"
          }
        },
        {
          "output_type": "stream",
          "name": "stderr",
          "text": [
            " 70%|██████▉   | 342/490 [00:23<00:09, 16.03it/s]"
          ]
        },
        {
          "output_type": "display_data",
          "data": {
            "image/png": "[encoded data removed]",
            "text/plain": [
              "<Figure size 432x288 with 1 Axes>"
            ]
          },
          "metadata": {
            "needs_background": "light"
          }
        },
        {
          "output_type": "stream",
          "name": "stderr",
          "text": [
            " 80%|███████▉  | 391/490 [00:26<00:06, 15.06it/s]"
          ]
        },
        {
          "output_type": "display_data",
          "data": {
            "image/png": "[encoded data removed]",
            "text/plain": [
              "<Figure size 432x288 with 1 Axes>"
            ]
          },
          "metadata": {
            "needs_background": "light"
          }
        },
        {
          "output_type": "stream",
          "name": "stderr",
          "text": [
            " 90%|████████▉ | 440/490 [00:29<00:03, 14.84it/s]"
          ]
        },
        {
          "output_type": "display_data",
          "data": {
            "image/png": "[encoded data removed]",
            "text/plain": [
              "<Figure size 432x288 with 1 Axes>"
            ]
          },
          "metadata": {
            "needs_background": "light"
          }
        },
        {
          "output_type": "stream",
          "name": "stderr",
          "text": [
            "100%|██████████| 490/490 [00:33<00:00, 14.52it/s]\n"
          ]
        },
        {
          "output_type": "execute_result",
          "data": {
            "text/html": [
              "\n",
              "  <div id=\"df-24a256cb-ed3e-4eb8-8779-c7c54dea5f89\">\n",
              "    <div class=\"colab-df-container\">\n",
              "      <div>\n",
              "<style scoped>\n",
              "    .dataframe tbody tr th:only-of-type {\n",
              "        vertical-align: middle;\n",
              "    }\n",
              "\n",
              "    .dataframe tbody tr th {\n",
              "        vertical-align: top;\n",
              "    }\n",
              "\n",
              "    .dataframe thead th {\n",
              "        text-align: right;\n",
              "    }\n",
              "</style>\n",
              "<table border=\"1\" class=\"dataframe\">\n",
              "  <thead>\n",
              "    <tr style=\"text-align: right;\">\n",
              "      <th></th>\n",
              "      <th>image_id</th>\n",
              "      <th>image_location</th>\n",
              "      <th>prediction1</th>\n",
              "      <th>prediction2</th>\n",
              "      <th>prediction3</th>\n",
              "      <th>prediction4</th>\n",
              "      <th>prediction5</th>\n",
              "    </tr>\n",
              "  </thead>\n",
              "  <tbody>\n",
              "    <tr>\n",
              "      <th>0</th>\n",
              "      <td>ID_6NEDKOYZ</td>\n",
              "      <td>top</td>\n",
              "      <td>t_id_4ZfTUmwL</td>\n",
              "      <td>t_id_KysHzQQK</td>\n",
              "      <td>t_id_uJXT7dGu</td>\n",
              "      <td>t_id_2Yn71r7R</td>\n",
              "      <td>t_id_FBsGDJhU</td>\n",
              "    </tr>\n",
              "    <tr>\n",
              "      <th>1</th>\n",
              "      <td>ID_57QZ4S9N</td>\n",
              "      <td>left</td>\n",
              "      <td>t_id_Kf73l69A</td>\n",
              "      <td>t_id_NW7wn8TC</td>\n",
              "      <td>t_id_HcnnlRda</td>\n",
              "      <td>t_id_m2JvEcsg</td>\n",
              "      <td>t_id_gz3whk0q</td>\n",
              "    </tr>\n",
              "    <tr>\n",
              "      <th>2</th>\n",
              "      <td>ID_OCGGJS5X</td>\n",
              "      <td>left</td>\n",
              "      <td>t_id_YjXYTCGC</td>\n",
              "      <td>t_id_ROFhVsy2</td>\n",
              "      <td>t_id_G5JLzvai</td>\n",
              "      <td>t_id_UVQa4BMz</td>\n",
              "      <td>t_id_pCO59rOk</td>\n",
              "    </tr>\n",
              "    <tr>\n",
              "      <th>3</th>\n",
              "      <td>ID_R2993S3S</td>\n",
              "      <td>top</td>\n",
              "      <td>t_id_pCO59rOk</td>\n",
              "      <td>t_id_HxxqrdTx</td>\n",
              "      <td>t_id_0DPPpRUz</td>\n",
              "      <td>t_id_9GFmcOd5</td>\n",
              "      <td>t_id_2QmcRkNj</td>\n",
              "    </tr>\n",
              "    <tr>\n",
              "      <th>4</th>\n",
              "      <td>ID_2E011NB0</td>\n",
              "      <td>left</td>\n",
              "      <td>t_id_dVQ4x3wz</td>\n",
              "      <td>t_id_DPYQnZyv</td>\n",
              "      <td>t_id_YjXYTCGC</td>\n",
              "      <td>t_id_g9Fz8PH7</td>\n",
              "      <td>t_id_2E8o5Jtl</td>\n",
              "    </tr>\n",
              "    <tr>\n",
              "      <th>...</th>\n",
              "      <td>...</td>\n",
              "      <td>...</td>\n",
              "      <td>...</td>\n",
              "      <td>...</td>\n",
              "      <td>...</td>\n",
              "      <td>...</td>\n",
              "      <td>...</td>\n",
              "    </tr>\n",
              "    <tr>\n",
              "      <th>485</th>\n",
              "      <td>ID_0RVNUKK1</td>\n",
              "      <td>left</td>\n",
              "      <td>t_id_D7NA71la</td>\n",
              "      <td>t_id_dVQ4x3wz</td>\n",
              "      <td>t_id_8b8sprYe</td>\n",
              "      <td>t_id_n2FBHk6d</td>\n",
              "      <td>t_id_AOWArhGb</td>\n",
              "    </tr>\n",
              "    <tr>\n",
              "      <th>486</th>\n",
              "      <td>ID_6405IKG3</td>\n",
              "      <td>top</td>\n",
              "      <td>t_id_Imm5pnNf</td>\n",
              "      <td>t_id_4XiPKIk7</td>\n",
              "      <td>t_id_87CLFCvE</td>\n",
              "      <td>t_id_J5dngbNA</td>\n",
              "      <td>t_id_uVgs53Cz</td>\n",
              "    </tr>\n",
              "    <tr>\n",
              "      <th>487</th>\n",
              "      <td>ID_6WVPVB7S</td>\n",
              "      <td>right</td>\n",
              "      <td>t_id_iD9ikw6Y</td>\n",
              "      <td>t_id_p77GDtzg</td>\n",
              "      <td>t_id_MwnEYfqe</td>\n",
              "      <td>t_id_B7LaSiac</td>\n",
              "      <td>t_id_WDCMGvI4</td>\n",
              "    </tr>\n",
              "    <tr>\n",
              "      <th>488</th>\n",
              "      <td>ID_47C5LL2G</td>\n",
              "      <td>right</td>\n",
              "      <td>t_id_hRzOoJ2t</td>\n",
              "      <td>t_id_7gFFZy7i</td>\n",
              "      <td>t_id_dVQ4x3wz</td>\n",
              "      <td>t_id_IP3xtKuX</td>\n",
              "      <td>t_id_JI6ba2Yx</td>\n",
              "    </tr>\n",
              "    <tr>\n",
              "      <th>489</th>\n",
              "      <td>ID_HZP6EJAK</td>\n",
              "      <td>right</td>\n",
              "      <td>t_id_4ZfTUmwL</td>\n",
              "      <td>t_id_uJXT7dGu</td>\n",
              "      <td>new_turtle</td>\n",
              "      <td>t_id_0g31STvR</td>\n",
              "      <td>t_id_smNwfXAT</td>\n",
              "    </tr>\n",
              "  </tbody>\n",
              "</table>\n",
              "<p>490 rows × 7 columns</p>\n",
              "</div>\n",
              "      <button class=\"colab-df-convert\" onclick=\"convertToInteractive('df-24a256cb-ed3e-4eb8-8779-c7c54dea5f89')\"\n",
              "              title=\"Convert this dataframe to an interactive table.\"\n",
              "              style=\"display:none;\">\n",
              "        \n",
              "  <svg xmlns=\"http://www.w3.org/2000/svg\" height=\"24px\"viewBox=\"0 0 24 24\"\n",
              "       width=\"24px\">\n",
              "    <path d=\"M0 0h24v24H0V0z\" fill=\"none\"/>\n",
              "    <path d=\"M18.56 5.44l.94 2.06.94-2.06 2.06-.94-2.06-.94-.94-2.06-.94 2.06-2.06.94zm-11 1L8.5 8.5l.94-2.06 2.06-.94-2.06-.94L8.5 2.5l-.94 2.06-2.06.94zm10 10l.94 2.06.94-2.06 2.06-.94-2.06-.94-.94-2.06-.94 2.06-2.06.94z\"/><path d=\"M17.41 7.96l-1.37-1.37c-.4-.4-.92-.59-1.43-.59-.52 0-1.04.2-1.43.59L10.3 9.45l-7.72 7.72c-.78.78-.78 2.05 0 2.83L4 21.41c.39.39.9.59 1.41.59.51 0 1.02-.2 1.41-.59l7.78-7.78 2.81-2.81c.8-.78.8-2.07 0-2.86zM5.41 20L4 18.59l7.72-7.72 1.47 1.35L5.41 20z\"/>\n",
              "  </svg>\n",
              "      </button>\n",
              "      \n",
              "  <style>\n",
              "    .colab-df-container {\n",
              "      display:flex;\n",
              "      flex-wrap:wrap;\n",
              "      gap: 12px;\n",
              "    }\n",
              "\n",
              "    .colab-df-convert {\n",
              "      background-color: #E8F0FE;\n",
              "      border: none;\n",
              "      border-radius: 50%;\n",
              "      cursor: pointer;\n",
              "      display: none;\n",
              "      fill: #1967D2;\n",
              "      height: 32px;\n",
              "      padding: 0 0 0 0;\n",
              "      width: 32px;\n",
              "    }\n",
              "\n",
              "    .colab-df-convert:hover {\n",
              "      background-color: #E2EBFA;\n",
              "      box-shadow: 0px 1px 2px rgba(60, 64, 67, 0.3), 0px 1px 3px 1px rgba(60, 64, 67, 0.15);\n",
              "      fill: #174EA6;\n",
              "    }\n",
              "\n",
              "    [theme=dark] .colab-df-convert {\n",
              "      background-color: #3B4455;\n",
              "      fill: #D2E3FC;\n",
              "    }\n",
              "\n",
              "    [theme=dark] .colab-df-convert:hover {\n",
              "      background-color: #434B5C;\n",
              "      box-shadow: 0px 1px 3px 1px rgba(0, 0, 0, 0.15);\n",
              "      filter: drop-shadow(0px 1px 2px rgba(0, 0, 0, 0.3));\n",
              "      fill: #FFFFFF;\n",
              "    }\n",
              "  </style>\n",
              "\n",
              "      <script>\n",
              "        const buttonEl =\n",
              "          document.querySelector('#df-24a256cb-ed3e-4eb8-8779-c7c54dea5f89 button.colab-df-convert');\n",
              "        buttonEl.style.display =\n",
              "          google.colab.kernel.accessAllowed ? 'block' : 'none';\n",
              "\n",
              "        async function convertToInteractive(key) {\n",
              "          const element = document.querySelector('#df-24a256cb-ed3e-4eb8-8779-c7c54dea5f89');\n",
              "          const dataTable =\n",
              "            await google.colab.kernel.invokeFunction('convertToInteractive',\n",
              "                                                     [key], {});\n",
              "          if (!dataTable) return;\n",
              "\n",
              "          const docLinkHtml = 'Like what you see? Visit the ' +\n",
              "            '<a target=\"_blank\" href=https://colab.research.google.com/notebooks/data_table.ipynb>data table notebook</a>'\n",
              "            + ' to learn more about interactive tables.';\n",
              "          element.innerHTML = '';\n",
              "          dataTable['output_type'] = 'display_data';\n",
              "          await google.colab.output.renderOutput(dataTable, element);\n",
              "          const docLink = document.createElement('div');\n",
              "          docLink.innerHTML = docLinkHtml;\n",
              "          element.appendChild(docLink);\n",
              "        }\n",
              "      </script>\n",
              "    </div>\n",
              "  </div>\n",
              "  "
            ],
            "text/plain": [
              "        image_id image_location  ...    prediction4    prediction5\n",
              "0    ID_6NEDKOYZ            top  ...  t_id_2Yn71r7R  t_id_FBsGDJhU\n",
              "1    ID_57QZ4S9N           left  ...  t_id_m2JvEcsg  t_id_gz3whk0q\n",
              "2    ID_OCGGJS5X           left  ...  t_id_UVQa4BMz  t_id_pCO59rOk\n",
              "3    ID_R2993S3S            top  ...  t_id_9GFmcOd5  t_id_2QmcRkNj\n",
              "4    ID_2E011NB0           left  ...  t_id_g9Fz8PH7  t_id_2E8o5Jtl\n",
              "..           ...            ...  ...            ...            ...\n",
              "485  ID_0RVNUKK1           left  ...  t_id_n2FBHk6d  t_id_AOWArhGb\n",
              "486  ID_6405IKG3            top  ...  t_id_J5dngbNA  t_id_uVgs53Cz\n",
              "487  ID_6WVPVB7S          right  ...  t_id_B7LaSiac  t_id_WDCMGvI4\n",
              "488  ID_47C5LL2G          right  ...  t_id_IP3xtKuX  t_id_JI6ba2Yx\n",
              "489  ID_HZP6EJAK          right  ...  t_id_0g31STvR  t_id_smNwfXAT\n",
              "\n",
              "[490 rows x 7 columns]"
            ]
          },
          "metadata": {},
          "execution_count": 21
        }
      ],
      "source": [
        "from tqdm import tqdm\n",
        "model_ft.eval()\n",
        "for i in range(5):\n",
        "    test[f'prediction{i+1}'] = \"\"\n",
        "\n",
        "with torch.no_grad():\n",
        "    for i_row, row in tqdm(test.iterrows(), total=sample_submission.shape[0]):\n",
        "        img_raw = read_image(f\"{IMAGE_DIR}/{row['image_id']}.JPG\") / 255.\n",
        "        img_raw = img_raw.to(device)\n",
        "        \n",
        "        total_out = torch.zeros((101))\n",
        "        img = data_transforms['val'](img_raw)\n",
        "        out = model_ft(img.unsqueeze(0))[0]\n",
        "        out = torch.softmax(out, axis=-1).cpu()\n",
        "        total_out += out\n",
        "        \n",
        "        if i_row % 49 == 0:\n",
        "            plt.plot(total_out)\n",
        "            plt.show()\n",
        "        \n",
        "        val, idxs = torch.topk(total_out, 5)\n",
        "        for i, idx in enumerate(idxs):\n",
        "            row[f'prediction{i+1}'] = idx2id[idx]\n",
        "test"
      ]
    },
    {
      "cell_type": "code",
      "execution_count": 22,
      "metadata": {
        "id": "8X0H7QC-5IaK",
        "colab": {
          "base_uri": "https://localhost:8080/",
          "height": 17
        },
        "outputId": "0059737f-86c6-4404-b2af-a7999e40c49d"
      },
      "outputs": [
        {
          "output_type": "display_data",
          "data": {
            "application/javascript": [
              "\n",
              "    async function download(id, filename, size) {\n",
              "      if (!google.colab.kernel.accessAllowed) {\n",
              "        return;\n",
              "      }\n",
              "      const div = document.createElement('div');\n",
              "      const label = document.createElement('label');\n",
              "      label.textContent = `Downloading \"${filename}\": `;\n",
              "      div.appendChild(label);\n",
              "      const progress = document.createElement('progress');\n",
              "      progress.max = size;\n",
              "      div.appendChild(progress);\n",
              "      document.body.appendChild(div);\n",
              "\n",
              "      const buffers = [];\n",
              "      let downloaded = 0;\n",
              "\n",
              "      const channel = await google.colab.kernel.comms.open(id);\n",
              "      // Send a message to notify the kernel that we're ready.\n",
              "      channel.send({})\n",
              "\n",
              "      for await (const message of channel.messages) {\n",
              "        // Send a message to notify the kernel that we're ready.\n",
              "        channel.send({})\n",
              "        if (message.buffers) {\n",
              "          for (const buffer of message.buffers) {\n",
              "            buffers.push(buffer);\n",
              "            downloaded += buffer.byteLength;\n",
              "            progress.value = downloaded;\n",
              "          }\n",
              "        }\n",
              "      }\n",
              "      const blob = new Blob(buffers, {type: 'application/binary'});\n",
              "      const a = document.createElement('a');\n",
              "      a.href = window.URL.createObjectURL(blob);\n",
              "      a.download = filename;\n",
              "      div.appendChild(a);\n",
              "      a.click();\n",
              "      div.remove();\n",
              "    }\n",
              "  "
            ],
            "text/plain": [
              "<IPython.core.display.Javascript object>"
            ]
          },
          "metadata": {}
        },
        {
          "output_type": "display_data",
          "data": {
            "application/javascript": [
              "download(\"download_4ae3d430-883e-4331-837c-35514049eb14\", \"submission.csv\", 40000)"
            ],
            "text/plain": [
              "<IPython.core.display.Javascript object>"
            ]
          },
          "metadata": {}
        }
      ],
      "source": [
        "from google.colab import files\n",
        "\n",
        "test.drop(columns=['image_location']).to_csv('submission.csv', index=False)\n",
        "files.download('submission.csv')"
      ]
    },
    {
      "cell_type": "code",
      "source": [
        "pd.read_csv(\"submission.csv\")"
      ],
      "metadata": {
        "colab": {
          "base_uri": "https://localhost:8080/",
          "height": 423
        },
        "id": "dHZnQUCYSIUr",
        "outputId": "ca21c932-fc0c-449a-b9fb-cab9217d885f"
      },
      "execution_count": 23,
      "outputs": [
        {
          "output_type": "execute_result",
          "data": {
            "text/html": [
              "\n",
              "  <div id=\"df-d7b317d9-c0a5-4510-a262-0ca43db3603d\">\n",
              "    <div class=\"colab-df-container\">\n",
              "      <div>\n",
              "<style scoped>\n",
              "    .dataframe tbody tr th:only-of-type {\n",
              "        vertical-align: middle;\n",
              "    }\n",
              "\n",
              "    .dataframe tbody tr th {\n",
              "        vertical-align: top;\n",
              "    }\n",
              "\n",
              "    .dataframe thead th {\n",
              "        text-align: right;\n",
              "    }\n",
              "</style>\n",
              "<table border=\"1\" class=\"dataframe\">\n",
              "  <thead>\n",
              "    <tr style=\"text-align: right;\">\n",
              "      <th></th>\n",
              "      <th>image_id</th>\n",
              "      <th>prediction1</th>\n",
              "      <th>prediction2</th>\n",
              "      <th>prediction3</th>\n",
              "      <th>prediction4</th>\n",
              "      <th>prediction5</th>\n",
              "    </tr>\n",
              "  </thead>\n",
              "  <tbody>\n",
              "    <tr>\n",
              "      <th>0</th>\n",
              "      <td>ID_6NEDKOYZ</td>\n",
              "      <td>t_id_4ZfTUmwL</td>\n",
              "      <td>t_id_KysHzQQK</td>\n",
              "      <td>t_id_uJXT7dGu</td>\n",
              "      <td>t_id_2Yn71r7R</td>\n",
              "      <td>t_id_FBsGDJhU</td>\n",
              "    </tr>\n",
              "    <tr>\n",
              "      <th>1</th>\n",
              "      <td>ID_57QZ4S9N</td>\n",
              "      <td>t_id_Kf73l69A</td>\n",
              "      <td>t_id_NW7wn8TC</td>\n",
              "      <td>t_id_HcnnlRda</td>\n",
              "      <td>t_id_m2JvEcsg</td>\n",
              "      <td>t_id_gz3whk0q</td>\n",
              "    </tr>\n",
              "    <tr>\n",
              "      <th>2</th>\n",
              "      <td>ID_OCGGJS5X</td>\n",
              "      <td>t_id_YjXYTCGC</td>\n",
              "      <td>t_id_ROFhVsy2</td>\n",
              "      <td>t_id_G5JLzvai</td>\n",
              "      <td>t_id_UVQa4BMz</td>\n",
              "      <td>t_id_pCO59rOk</td>\n",
              "    </tr>\n",
              "    <tr>\n",
              "      <th>3</th>\n",
              "      <td>ID_R2993S3S</td>\n",
              "      <td>t_id_pCO59rOk</td>\n",
              "      <td>t_id_HxxqrdTx</td>\n",
              "      <td>t_id_0DPPpRUz</td>\n",
              "      <td>t_id_9GFmcOd5</td>\n",
              "      <td>t_id_2QmcRkNj</td>\n",
              "    </tr>\n",
              "    <tr>\n",
              "      <th>4</th>\n",
              "      <td>ID_2E011NB0</td>\n",
              "      <td>t_id_dVQ4x3wz</td>\n",
              "      <td>t_id_DPYQnZyv</td>\n",
              "      <td>t_id_YjXYTCGC</td>\n",
              "      <td>t_id_g9Fz8PH7</td>\n",
              "      <td>t_id_2E8o5Jtl</td>\n",
              "    </tr>\n",
              "    <tr>\n",
              "      <th>...</th>\n",
              "      <td>...</td>\n",
              "      <td>...</td>\n",
              "      <td>...</td>\n",
              "      <td>...</td>\n",
              "      <td>...</td>\n",
              "      <td>...</td>\n",
              "    </tr>\n",
              "    <tr>\n",
              "      <th>485</th>\n",
              "      <td>ID_0RVNUKK1</td>\n",
              "      <td>t_id_D7NA71la</td>\n",
              "      <td>t_id_dVQ4x3wz</td>\n",
              "      <td>t_id_8b8sprYe</td>\n",
              "      <td>t_id_n2FBHk6d</td>\n",
              "      <td>t_id_AOWArhGb</td>\n",
              "    </tr>\n",
              "    <tr>\n",
              "      <th>486</th>\n",
              "      <td>ID_6405IKG3</td>\n",
              "      <td>t_id_Imm5pnNf</td>\n",
              "      <td>t_id_4XiPKIk7</td>\n",
              "      <td>t_id_87CLFCvE</td>\n",
              "      <td>t_id_J5dngbNA</td>\n",
              "      <td>t_id_uVgs53Cz</td>\n",
              "    </tr>\n",
              "    <tr>\n",
              "      <th>487</th>\n",
              "      <td>ID_6WVPVB7S</td>\n",
              "      <td>t_id_iD9ikw6Y</td>\n",
              "      <td>t_id_p77GDtzg</td>\n",
              "      <td>t_id_MwnEYfqe</td>\n",
              "      <td>t_id_B7LaSiac</td>\n",
              "      <td>t_id_WDCMGvI4</td>\n",
              "    </tr>\n",
              "    <tr>\n",
              "      <th>488</th>\n",
              "      <td>ID_47C5LL2G</td>\n",
              "      <td>t_id_hRzOoJ2t</td>\n",
              "      <td>t_id_7gFFZy7i</td>\n",
              "      <td>t_id_dVQ4x3wz</td>\n",
              "      <td>t_id_IP3xtKuX</td>\n",
              "      <td>t_id_JI6ba2Yx</td>\n",
              "    </tr>\n",
              "    <tr>\n",
              "      <th>489</th>\n",
              "      <td>ID_HZP6EJAK</td>\n",
              "      <td>t_id_4ZfTUmwL</td>\n",
              "      <td>t_id_uJXT7dGu</td>\n",
              "      <td>new_turtle</td>\n",
              "      <td>t_id_0g31STvR</td>\n",
              "      <td>t_id_smNwfXAT</td>\n",
              "    </tr>\n",
              "  </tbody>\n",
              "</table>\n",
              "<p>490 rows × 6 columns</p>\n",
              "</div>\n",
              "      <button class=\"colab-df-convert\" onclick=\"convertToInteractive('df-d7b317d9-c0a5-4510-a262-0ca43db3603d')\"\n",
              "              title=\"Convert this dataframe to an interactive table.\"\n",
              "              style=\"display:none;\">\n",
              "        \n",
              "  <svg xmlns=\"http://www.w3.org/2000/svg\" height=\"24px\"viewBox=\"0 0 24 24\"\n",
              "       width=\"24px\">\n",
              "    <path d=\"M0 0h24v24H0V0z\" fill=\"none\"/>\n",
              "    <path d=\"M18.56 5.44l.94 2.06.94-2.06 2.06-.94-2.06-.94-.94-2.06-.94 2.06-2.06.94zm-11 1L8.5 8.5l.94-2.06 2.06-.94-2.06-.94L8.5 2.5l-.94 2.06-2.06.94zm10 10l.94 2.06.94-2.06 2.06-.94-2.06-.94-.94-2.06-.94 2.06-2.06.94z\"/><path d=\"M17.41 7.96l-1.37-1.37c-.4-.4-.92-.59-1.43-.59-.52 0-1.04.2-1.43.59L10.3 9.45l-7.72 7.72c-.78.78-.78 2.05 0 2.83L4 21.41c.39.39.9.59 1.41.59.51 0 1.02-.2 1.41-.59l7.78-7.78 2.81-2.81c.8-.78.8-2.07 0-2.86zM5.41 20L4 18.59l7.72-7.72 1.47 1.35L5.41 20z\"/>\n",
              "  </svg>\n",
              "      </button>\n",
              "      \n",
              "  <style>\n",
              "    .colab-df-container {\n",
              "      display:flex;\n",
              "      flex-wrap:wrap;\n",
              "      gap: 12px;\n",
              "    }\n",
              "\n",
              "    .colab-df-convert {\n",
              "      background-color: #E8F0FE;\n",
              "      border: none;\n",
              "      border-radius: 50%;\n",
              "      cursor: pointer;\n",
              "      display: none;\n",
              "      fill: #1967D2;\n",
              "      height: 32px;\n",
              "      padding: 0 0 0 0;\n",
              "      width: 32px;\n",
              "    }\n",
              "\n",
              "    .colab-df-convert:hover {\n",
              "      background-color: #E2EBFA;\n",
              "      box-shadow: 0px 1px 2px rgba(60, 64, 67, 0.3), 0px 1px 3px 1px rgba(60, 64, 67, 0.15);\n",
              "      fill: #174EA6;\n",
              "    }\n",
              "\n",
              "    [theme=dark] .colab-df-convert {\n",
              "      background-color: #3B4455;\n",
              "      fill: #D2E3FC;\n",
              "    }\n",
              "\n",
              "    [theme=dark] .colab-df-convert:hover {\n",
              "      background-color: #434B5C;\n",
              "      box-shadow: 0px 1px 3px 1px rgba(0, 0, 0, 0.15);\n",
              "      filter: drop-shadow(0px 1px 2px rgba(0, 0, 0, 0.3));\n",
              "      fill: #FFFFFF;\n",
              "    }\n",
              "  </style>\n",
              "\n",
              "      <script>\n",
              "        const buttonEl =\n",
              "          document.querySelector('#df-d7b317d9-c0a5-4510-a262-0ca43db3603d button.colab-df-convert');\n",
              "        buttonEl.style.display =\n",
              "          google.colab.kernel.accessAllowed ? 'block' : 'none';\n",
              "\n",
              "        async function convertToInteractive(key) {\n",
              "          const element = document.querySelector('#df-d7b317d9-c0a5-4510-a262-0ca43db3603d');\n",
              "          const dataTable =\n",
              "            await google.colab.kernel.invokeFunction('convertToInteractive',\n",
              "                                                     [key], {});\n",
              "          if (!dataTable) return;\n",
              "\n",
              "          const docLinkHtml = 'Like what you see? Visit the ' +\n",
              "            '<a target=\"_blank\" href=https://colab.research.google.com/notebooks/data_table.ipynb>data table notebook</a>'\n",
              "            + ' to learn more about interactive tables.';\n",
              "          element.innerHTML = '';\n",
              "          dataTable['output_type'] = 'display_data';\n",
              "          await google.colab.output.renderOutput(dataTable, element);\n",
              "          const docLink = document.createElement('div');\n",
              "          docLink.innerHTML = docLinkHtml;\n",
              "          element.appendChild(docLink);\n",
              "        }\n",
              "      </script>\n",
              "    </div>\n",
              "  </div>\n",
              "  "
            ],
            "text/plain": [
              "        image_id    prediction1  ...    prediction4    prediction5\n",
              "0    ID_6NEDKOYZ  t_id_4ZfTUmwL  ...  t_id_2Yn71r7R  t_id_FBsGDJhU\n",
              "1    ID_57QZ4S9N  t_id_Kf73l69A  ...  t_id_m2JvEcsg  t_id_gz3whk0q\n",
              "2    ID_OCGGJS5X  t_id_YjXYTCGC  ...  t_id_UVQa4BMz  t_id_pCO59rOk\n",
              "3    ID_R2993S3S  t_id_pCO59rOk  ...  t_id_9GFmcOd5  t_id_2QmcRkNj\n",
              "4    ID_2E011NB0  t_id_dVQ4x3wz  ...  t_id_g9Fz8PH7  t_id_2E8o5Jtl\n",
              "..           ...            ...  ...            ...            ...\n",
              "485  ID_0RVNUKK1  t_id_D7NA71la  ...  t_id_n2FBHk6d  t_id_AOWArhGb\n",
              "486  ID_6405IKG3  t_id_Imm5pnNf  ...  t_id_J5dngbNA  t_id_uVgs53Cz\n",
              "487  ID_6WVPVB7S  t_id_iD9ikw6Y  ...  t_id_B7LaSiac  t_id_WDCMGvI4\n",
              "488  ID_47C5LL2G  t_id_hRzOoJ2t  ...  t_id_IP3xtKuX  t_id_JI6ba2Yx\n",
              "489  ID_HZP6EJAK  t_id_4ZfTUmwL  ...  t_id_0g31STvR  t_id_smNwfXAT\n",
              "\n",
              "[490 rows x 6 columns]"
            ]
          },
          "metadata": {},
          "execution_count": 23
        }
      ]
    },
    {
      "cell_type": "markdown",
      "metadata": {
        "id": "2SYW-9eoRUu5"
      },
      "source": [
        "Final Thoughts and Where to Go Next\n",
        "-----------------------------------\n",
        "\n",
        "Try running some of the other models and see how good the accuracy gets.\n",
        "Also, notice that feature extracting takes less time because in the\n",
        "backward pass we do not have to calculate most of the gradients. There\n",
        "are many places to go from here. You could:\n",
        "\n",
        "-  Run this code with a harder dataset and see some more benefits of\n",
        "   transfer learning\n",
        "-  Using the methods described here, use transfer learning to update a\n",
        "   different model, perhaps in a new domain (i.e. NLP, audio, etc.)\n",
        "-  Once you are happy with a model, you can export it as an ONNX model,\n",
        "   or trace it using the hybrid frontend for more speed and optimization\n",
        "   opportunities.\n",
        "\n",
        "\n"
      ]
    }
  ],
  "metadata": {
    "accelerator": "GPU",
    "colab": {
      "collapsed_sections": [],
      "name": "turtle_finetuning_torchvision_models_tutorial.ipynb",
      "provenance": []
    },
    "kernelspec": {
      "display_name": "Python 3",
      "language": "python",
      "name": "python3"
    },
    "language_info": {
      "codemirror_mode": {
        "name": "ipython",
        "version": 3
      },
      "file_extension": ".py",
      "mimetype": "text/x-python",
      "name": "python",
      "nbconvert_exporter": "python",
      "pygments_lexer": "ipython3",
      "version": "3.6.8"
    }
  },
  "nbformat": 4,
  "nbformat_minor": 0
}